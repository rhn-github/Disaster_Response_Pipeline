{
 "cells": [
  {
   "cell_type": "markdown",
   "metadata": {},
   "source": [
    "# ML Pipeline Preparation\n",
    "Follow the instructions below to help you create your ML pipeline.\n",
    "### 1. Import libraries and load data from database.\n",
    "- Import Python libraries\n",
    "- Load dataset from database with [`read_sql_table`](https://pandas.pydata.org/pandas-docs/stable/generated/pandas.read_sql_table.html)\n",
    "- Define feature and target variables X and Y"
   ]
  },
  {
   "cell_type": "code",
   "execution_count": 1,
   "metadata": {},
   "outputs": [
    {
     "name": "stderr",
     "output_type": "stream",
     "text": [
      "[nltk_data] Downloading package punkt to\n",
      "[nltk_data]     C:\\Users\\richa\\AppData\\Roaming\\nltk_data...\n",
      "[nltk_data]   Package punkt is already up-to-date!\n",
      "[nltk_data] Downloading package wordnet to\n",
      "[nltk_data]     C:\\Users\\richa\\AppData\\Roaming\\nltk_data...\n",
      "[nltk_data]   Package wordnet is already up-to-date!\n",
      "[nltk_data] Downloading package stopwords to\n",
      "[nltk_data]     C:\\Users\\richa\\AppData\\Roaming\\nltk_data...\n",
      "[nltk_data]   Package stopwords is already up-to-date!\n"
     ]
    }
   ],
   "source": [
    "# for loading data\n",
    "import pandas as pd\n",
    "import sqlite3\n",
    "from sqlalchemy import create_engine\n",
    "\n",
    "# for tokenizing\n",
    "import re\n",
    "from nltk.corpus import stopwords\n",
    "from nltk.tokenize import word_tokenize\n",
    "from nltk.stem import WordNetLemmatizer\n",
    "import nltk\n",
    "nltk.download(['punkt', 'wordnet', 'stopwords'])\n",
    "\n",
    "# for pipeline build\n",
    "from sklearn.pipeline import Pipeline\n",
    "from sklearn.feature_extraction.text import CountVectorizer, TfidfTransformer\n",
    "from sklearn.multioutput import MultiOutputClassifier\n",
    "from sklearn.ensemble import RandomForestClassifier\n",
    "\n",
    "# for pipeline train\n",
    "from sklearn.model_selection import train_test_split\n",
    "\n",
    "# for model test\n",
    "from sklearn.metrics import confusion_matrix\n",
    "from sklearn.metrics import classification_report\n",
    "\n",
    "# for gridcv\n",
    "import numpy as np\n",
    "from sklearn.preprocessing import LabelEncoder \n",
    "from sklearn.metrics import multilabel_confusion_matrix\n",
    "from sklearn.model_selection import GridSearchCV"
   ]
  },
  {
   "cell_type": "code",
   "execution_count": 2,
   "metadata": {},
   "outputs": [],
   "source": [
    "# load data from database\n",
    "engine = create_engine('sqlite:///database_etl_rhn_udacity.db')\n",
    "df = pd.read_sql(\"SELECT * FROM table_etl_rhn_udacity\", engine)\n",
    "X = df.message.values\n",
    "y = df.iloc[:, 5:].values\n",
    "categories = list(df.columns)[5:]"
   ]
  },
  {
   "cell_type": "markdown",
   "metadata": {},
   "source": [
    "### 2. Write a tokenization function to process your text data"
   ]
  },
  {
   "cell_type": "code",
   "execution_count": 3,
   "metadata": {},
   "outputs": [],
   "source": [
    "def tokenize(text):\n",
    "\n",
    "    # tokenize text\n",
    "    text = re.sub(r\"[^a-zA-Z0-9]\", \" \", text)\n",
    "    tokens = word_tokenize(text)\n",
    "        \n",
    "    tokens = [t for t in tokens if t not in stopwords.words(\"english\")] \n",
    "                 \n",
    "    # initiate lemmatizer\n",
    "    lemmatizer = WordNetLemmatizer() \n",
    "\n",
    "    # iterate through each token\n",
    "    clean_tokens = []\n",
    "    for tok in tokens:        \n",
    "        \n",
    "        # lemmatize, normalize case, and remove leading/trailing white space\n",
    "        clean_tok = lemmatizer.lemmatize(tok).lower().strip()\n",
    "        \n",
    "        clean_tokens.append(clean_tok)\n",
    "\n",
    "    return clean_tokens"
   ]
  },
  {
   "cell_type": "code",
   "execution_count": 4,
   "metadata": {},
   "outputs": [
    {
     "name": "stdout",
     "output_type": "stream",
     "text": [
      "['weather', 'update', 'cold', 'front', 'cuba', 'could', 'pas', 'haiti']\n",
      "['is', 'hurricane']\n",
      "['looking', 'someone', 'name']\n",
      "['un', 'report', 'leogane', '80', '90', 'destroyed', 'only', 'hospital', 'st', 'croix', 'functioning', 'needs', 'supply', 'desperately']\n",
      "['say', 'west', 'side', 'haiti', 'rest', 'country', 'today', 'tonight']\n"
     ]
    }
   ],
   "source": [
    "# test out function\n",
    "for message in X[:5]:\n",
    "    tokens = tokenize(message)\n",
    "    print(tokens)"
   ]
  },
  {
   "cell_type": "markdown",
   "metadata": {},
   "source": [
    "### 3. Build a machine learning pipeline\n",
    "This machine pipeline should take in the `message` column as input and output classification results on the other 36 categories in the dataset. You may find the [MultiOutputClassifier](http://scikit-learn.org/stable/modules/generated/sklearn.multioutput.MultiOutputClassifier.html) helpful for predicting multiple target variables."
   ]
  },
  {
   "cell_type": "code",
   "execution_count": 5,
   "metadata": {},
   "outputs": [],
   "source": [
    "pipeline = Pipeline([\n",
    "    ('vect', CountVectorizer(tokenizer=tokenize)),\n",
    "    ('tfidf', TfidfTransformer()),\n",
    "    ('clf', MultiOutputClassifier(RandomForestClassifier()))\n",
    "])"
   ]
  },
  {
   "cell_type": "markdown",
   "metadata": {},
   "source": [
    "### 4. Train pipeline\n",
    "- Split data into train and test sets\n",
    "- Train pipeline"
   ]
  },
  {
   "cell_type": "code",
   "execution_count": 6,
   "metadata": {},
   "outputs": [],
   "source": [
    "# Split data into train and test sets\n",
    "X_train, X_test, y_train, y_test = train_test_split(X, y)"
   ]
  },
  {
   "cell_type": "code",
   "execution_count": 7,
   "metadata": {},
   "outputs": [
    {
     "data": {
      "text/plain": [
       "Pipeline(steps=[('vect',\n",
       "                 CountVectorizer(tokenizer=<function tokenize at 0x000001D3CF9B8EE0>)),\n",
       "                ('tfidf', TfidfTransformer()),\n",
       "                ('clf',\n",
       "                 MultiOutputClassifier(estimator=RandomForestClassifier()))])"
      ]
     },
     "execution_count": 7,
     "metadata": {},
     "output_type": "execute_result"
    }
   ],
   "source": [
    "# train classifier\n",
    "pipeline.fit(X_train, y_train)"
   ]
  },
  {
   "cell_type": "markdown",
   "metadata": {},
   "source": [
    "### 5. Test your model\n",
    "Report the f1 score, precision and recall for each output category of the dataset. You can do this by iterating through the columns and calling sklearn's `classification_report` on each."
   ]
  },
  {
   "cell_type": "code",
   "execution_count": 8,
   "metadata": {},
   "outputs": [
    {
     "name": "stdout",
     "output_type": "stream",
     "text": [
      "                        precision    recall  f1-score   support\n",
      "\n",
      "               related       0.83      0.96      0.89      4948\n",
      "               request       0.83      0.52      0.64      1033\n",
      "                 offer       0.00      0.00      0.00        29\n",
      "           aid_related       0.73      0.69      0.71      2604\n",
      "          medical_help       0.63      0.07      0.12       520\n",
      "      medical_products       0.73      0.12      0.20       307\n",
      "     search_and_rescue       0.65      0.06      0.11       176\n",
      "              security       0.00      0.00      0.00       114\n",
      "              military       0.64      0.07      0.12       206\n",
      "           child_alone       0.00      0.00      0.00         0\n",
      "                 water       0.90      0.37      0.52       412\n",
      "                  food       0.81      0.67      0.73       698\n",
      "               shelter       0.84      0.42      0.56       548\n",
      "              clothing       0.59      0.11      0.19        91\n",
      "                 money       0.67      0.03      0.06       136\n",
      "        missing_people       1.00      0.04      0.07        80\n",
      "              refugees       0.50      0.01      0.01       200\n",
      "                 death       0.69      0.13      0.22       311\n",
      "             other_aid       0.48      0.03      0.05       803\n",
      "infrastructure_related       0.00      0.00      0.00       435\n",
      "             transport       0.68      0.06      0.11       322\n",
      "             buildings       0.75      0.12      0.20       313\n",
      "           electricity       1.00      0.02      0.03       122\n",
      "                 tools       0.00      0.00      0.00        33\n",
      "             hospitals       0.00      0.00      0.00        72\n",
      "                 shops       0.00      0.00      0.00        26\n",
      "           aid_centers       0.00      0.00      0.00        85\n",
      "  other_infrastructure       0.50      0.00      0.01       299\n",
      "       weather_related       0.85      0.71      0.77      1850\n",
      "                floods       0.87      0.42      0.57       567\n",
      "                 storm       0.76      0.53      0.62       600\n",
      "                  fire       1.00      0.03      0.05        71\n",
      "            earthquake       0.89      0.81      0.85       636\n",
      "                  cold       0.77      0.08      0.14       131\n",
      "         other_weather       0.60      0.03      0.07       344\n",
      "         direct_report       0.79      0.37      0.51      1183\n",
      "\n",
      "             micro avg       0.81      0.54      0.65     20305\n",
      "             macro avg       0.58      0.21      0.25     20305\n",
      "          weighted avg       0.74      0.54      0.57     20305\n",
      "           samples avg       0.66      0.49      0.51     20305\n",
      "\n"
     ]
    },
    {
     "name": "stderr",
     "output_type": "stream",
     "text": [
      "C:\\Users\\richa\\anaconda3\\lib\\site-packages\\sklearn\\metrics\\_classification.py:1221: UndefinedMetricWarning: Precision and F-score are ill-defined and being set to 0.0 in labels with no predicted samples. Use `zero_division` parameter to control this behavior.\n",
      "  _warn_prf(average, modifier, msg_start, len(result))\n",
      "C:\\Users\\richa\\anaconda3\\lib\\site-packages\\sklearn\\metrics\\_classification.py:1221: UndefinedMetricWarning: Recall and F-score are ill-defined and being set to 0.0 in labels with no true samples. Use `zero_division` parameter to control this behavior.\n",
      "  _warn_prf(average, modifier, msg_start, len(result))\n",
      "C:\\Users\\richa\\anaconda3\\lib\\site-packages\\sklearn\\metrics\\_classification.py:1221: UndefinedMetricWarning: Precision and F-score are ill-defined and being set to 0.0 in samples with no predicted labels. Use `zero_division` parameter to control this behavior.\n",
      "  _warn_prf(average, modifier, msg_start, len(result))\n",
      "C:\\Users\\richa\\anaconda3\\lib\\site-packages\\sklearn\\metrics\\_classification.py:1221: UndefinedMetricWarning: Recall and F-score are ill-defined and being set to 0.0 in samples with no true labels. Use `zero_division` parameter to control this behavior.\n",
      "  _warn_prf(average, modifier, msg_start, len(result))\n"
     ]
    }
   ],
   "source": [
    "y_pred = pd.DataFrame(pipeline.predict(X_test),columns=categories)\n",
    "y_true=pd.DataFrame(y_test, columns=categories)\n",
    "print(classification_report(y_true,y_pred,target_names=categories))"
   ]
  },
  {
   "cell_type": "markdown",
   "metadata": {},
   "source": [
    "### 6. Improve your model\n",
    "Use grid search to find better parameters. "
   ]
  },
  {
   "cell_type": "code",
   "execution_count": 9,
   "metadata": {},
   "outputs": [
    {
     "data": {
      "text/plain": [
       "{'memory': None,\n",
       " 'steps': [('vect',\n",
       "   CountVectorizer(tokenizer=<function tokenize at 0x000001D3CF9B8EE0>)),\n",
       "  ('tfidf', TfidfTransformer()),\n",
       "  ('clf', MultiOutputClassifier(estimator=RandomForestClassifier()))],\n",
       " 'verbose': False,\n",
       " 'vect': CountVectorizer(tokenizer=<function tokenize at 0x000001D3CF9B8EE0>),\n",
       " 'tfidf': TfidfTransformer(),\n",
       " 'clf': MultiOutputClassifier(estimator=RandomForestClassifier()),\n",
       " 'vect__analyzer': 'word',\n",
       " 'vect__binary': False,\n",
       " 'vect__decode_error': 'strict',\n",
       " 'vect__dtype': numpy.int64,\n",
       " 'vect__encoding': 'utf-8',\n",
       " 'vect__input': 'content',\n",
       " 'vect__lowercase': True,\n",
       " 'vect__max_df': 1.0,\n",
       " 'vect__max_features': None,\n",
       " 'vect__min_df': 1,\n",
       " 'vect__ngram_range': (1, 1),\n",
       " 'vect__preprocessor': None,\n",
       " 'vect__stop_words': None,\n",
       " 'vect__strip_accents': None,\n",
       " 'vect__token_pattern': '(?u)\\\\b\\\\w\\\\w+\\\\b',\n",
       " 'vect__tokenizer': <function __main__.tokenize(text)>,\n",
       " 'vect__vocabulary': None,\n",
       " 'tfidf__norm': 'l2',\n",
       " 'tfidf__smooth_idf': True,\n",
       " 'tfidf__sublinear_tf': False,\n",
       " 'tfidf__use_idf': True,\n",
       " 'clf__estimator__bootstrap': True,\n",
       " 'clf__estimator__ccp_alpha': 0.0,\n",
       " 'clf__estimator__class_weight': None,\n",
       " 'clf__estimator__criterion': 'gini',\n",
       " 'clf__estimator__max_depth': None,\n",
       " 'clf__estimator__max_features': 'auto',\n",
       " 'clf__estimator__max_leaf_nodes': None,\n",
       " 'clf__estimator__max_samples': None,\n",
       " 'clf__estimator__min_impurity_decrease': 0.0,\n",
       " 'clf__estimator__min_impurity_split': None,\n",
       " 'clf__estimator__min_samples_leaf': 1,\n",
       " 'clf__estimator__min_samples_split': 2,\n",
       " 'clf__estimator__min_weight_fraction_leaf': 0.0,\n",
       " 'clf__estimator__n_estimators': 100,\n",
       " 'clf__estimator__n_jobs': None,\n",
       " 'clf__estimator__oob_score': False,\n",
       " 'clf__estimator__random_state': None,\n",
       " 'clf__estimator__verbose': 0,\n",
       " 'clf__estimator__warm_start': False,\n",
       " 'clf__estimator': RandomForestClassifier(),\n",
       " 'clf__n_jobs': None}"
      ]
     },
     "execution_count": 9,
     "metadata": {},
     "output_type": "execute_result"
    }
   ],
   "source": [
    "pipeline.get_params()"
   ]
  },
  {
   "cell_type": "code",
   "execution_count": 10,
   "metadata": {},
   "outputs": [],
   "source": [
    "parameters = {\n",
    "    'vect__max_df': [0.5, 1.0],\n",
    "    'vect__min_df': [1, 5],\n",
    "    'tfidf__use_idf': [True, False],\n",
    "    'clf__estimator__n_estimators': [10, 25],\n",
    "    'clf__estimator__min_samples_split': [2, 4]\n",
    "    }"
   ]
  },
  {
   "cell_type": "code",
   "execution_count": 11,
   "metadata": {},
   "outputs": [],
   "source": [
    "# reduce the optimization time:\n",
    "# instantiate gridsearchcv having cv=2 (2 fold validation, by default it is set to 5)\n",
    "# and verbose = 3 to get the detailed realtime progress of the operation.\n",
    "cv = GridSearchCV(pipeline, param_grid=parameters, cv = 2, verbose = 3)"
   ]
  },
  {
   "cell_type": "code",
   "execution_count": 12,
   "metadata": {
    "scrolled": false
   },
   "outputs": [
    {
     "name": "stdout",
     "output_type": "stream",
     "text": [
      "Fitting 2 folds for each of 32 candidates, totalling 64 fits\n",
      "[CV] clf__estimator__min_samples_split=2, clf__estimator__n_estimators=10, tfidf__use_idf=True, vect__max_df=0.5, vect__min_df=1 \n"
     ]
    },
    {
     "name": "stderr",
     "output_type": "stream",
     "text": [
      "[Parallel(n_jobs=1)]: Using backend SequentialBackend with 1 concurrent workers.\n"
     ]
    },
    {
     "name": "stdout",
     "output_type": "stream",
     "text": [
      "[CV]  clf__estimator__min_samples_split=2, clf__estimator__n_estimators=10, tfidf__use_idf=True, vect__max_df=0.5, vect__min_df=1, score=0.232, total= 5.5min\n",
      "[CV] clf__estimator__min_samples_split=2, clf__estimator__n_estimators=10, tfidf__use_idf=True, vect__max_df=0.5, vect__min_df=1 \n"
     ]
    },
    {
     "name": "stderr",
     "output_type": "stream",
     "text": [
      "[Parallel(n_jobs=1)]: Done   1 out of   1 | elapsed:  5.5min remaining:    0.0s\n"
     ]
    },
    {
     "name": "stdout",
     "output_type": "stream",
     "text": [
      "[CV]  clf__estimator__min_samples_split=2, clf__estimator__n_estimators=10, tfidf__use_idf=True, vect__max_df=0.5, vect__min_df=1, score=0.240, total= 5.5min\n",
      "[CV] clf__estimator__min_samples_split=2, clf__estimator__n_estimators=10, tfidf__use_idf=True, vect__max_df=0.5, vect__min_df=5 \n"
     ]
    },
    {
     "name": "stderr",
     "output_type": "stream",
     "text": [
      "[Parallel(n_jobs=1)]: Done   2 out of   2 | elapsed: 11.0min remaining:    0.0s\n"
     ]
    },
    {
     "name": "stdout",
     "output_type": "stream",
     "text": [
      "[CV]  clf__estimator__min_samples_split=2, clf__estimator__n_estimators=10, tfidf__use_idf=True, vect__max_df=0.5, vect__min_df=5, score=0.241, total= 5.3min\n",
      "[CV] clf__estimator__min_samples_split=2, clf__estimator__n_estimators=10, tfidf__use_idf=True, vect__max_df=0.5, vect__min_df=5 \n",
      "[CV]  clf__estimator__min_samples_split=2, clf__estimator__n_estimators=10, tfidf__use_idf=True, vect__max_df=0.5, vect__min_df=5, score=0.242, total= 5.3min\n",
      "[CV] clf__estimator__min_samples_split=2, clf__estimator__n_estimators=10, tfidf__use_idf=True, vect__max_df=1.0, vect__min_df=1 \n",
      "[CV]  clf__estimator__min_samples_split=2, clf__estimator__n_estimators=10, tfidf__use_idf=True, vect__max_df=1.0, vect__min_df=1, score=0.234, total= 5.4min\n",
      "[CV] clf__estimator__min_samples_split=2, clf__estimator__n_estimators=10, tfidf__use_idf=True, vect__max_df=1.0, vect__min_df=1 \n",
      "[CV]  clf__estimator__min_samples_split=2, clf__estimator__n_estimators=10, tfidf__use_idf=True, vect__max_df=1.0, vect__min_df=1, score=0.238, total= 5.4min\n",
      "[CV] clf__estimator__min_samples_split=2, clf__estimator__n_estimators=10, tfidf__use_idf=True, vect__max_df=1.0, vect__min_df=5 \n",
      "[CV]  clf__estimator__min_samples_split=2, clf__estimator__n_estimators=10, tfidf__use_idf=True, vect__max_df=1.0, vect__min_df=5, score=0.237, total= 5.3min\n",
      "[CV] clf__estimator__min_samples_split=2, clf__estimator__n_estimators=10, tfidf__use_idf=True, vect__max_df=1.0, vect__min_df=5 \n",
      "[CV]  clf__estimator__min_samples_split=2, clf__estimator__n_estimators=10, tfidf__use_idf=True, vect__max_df=1.0, vect__min_df=5, score=0.247, total= 5.4min\n",
      "[CV] clf__estimator__min_samples_split=2, clf__estimator__n_estimators=10, tfidf__use_idf=False, vect__max_df=0.5, vect__min_df=1 \n",
      "[CV]  clf__estimator__min_samples_split=2, clf__estimator__n_estimators=10, tfidf__use_idf=False, vect__max_df=0.5, vect__min_df=1, score=0.229, total= 5.4min\n",
      "[CV] clf__estimator__min_samples_split=2, clf__estimator__n_estimators=10, tfidf__use_idf=False, vect__max_df=0.5, vect__min_df=1 \n",
      "[CV]  clf__estimator__min_samples_split=2, clf__estimator__n_estimators=10, tfidf__use_idf=False, vect__max_df=0.5, vect__min_df=1, score=0.236, total= 5.3min\n",
      "[CV] clf__estimator__min_samples_split=2, clf__estimator__n_estimators=10, tfidf__use_idf=False, vect__max_df=0.5, vect__min_df=5 \n",
      "[CV]  clf__estimator__min_samples_split=2, clf__estimator__n_estimators=10, tfidf__use_idf=False, vect__max_df=0.5, vect__min_df=5, score=0.241, total= 5.3min\n",
      "[CV] clf__estimator__min_samples_split=2, clf__estimator__n_estimators=10, tfidf__use_idf=False, vect__max_df=0.5, vect__min_df=5 \n",
      "[CV]  clf__estimator__min_samples_split=2, clf__estimator__n_estimators=10, tfidf__use_idf=False, vect__max_df=0.5, vect__min_df=5, score=0.244, total= 5.2min\n",
      "[CV] clf__estimator__min_samples_split=2, clf__estimator__n_estimators=10, tfidf__use_idf=False, vect__max_df=1.0, vect__min_df=1 \n",
      "[CV]  clf__estimator__min_samples_split=2, clf__estimator__n_estimators=10, tfidf__use_idf=False, vect__max_df=1.0, vect__min_df=1, score=0.233, total= 5.4min\n",
      "[CV] clf__estimator__min_samples_split=2, clf__estimator__n_estimators=10, tfidf__use_idf=False, vect__max_df=1.0, vect__min_df=1 \n",
      "[CV]  clf__estimator__min_samples_split=2, clf__estimator__n_estimators=10, tfidf__use_idf=False, vect__max_df=1.0, vect__min_df=1, score=0.238, total= 5.5min\n",
      "[CV] clf__estimator__min_samples_split=2, clf__estimator__n_estimators=10, tfidf__use_idf=False, vect__max_df=1.0, vect__min_df=5 \n",
      "[CV]  clf__estimator__min_samples_split=2, clf__estimator__n_estimators=10, tfidf__use_idf=False, vect__max_df=1.0, vect__min_df=5, score=0.240, total= 5.3min\n",
      "[CV] clf__estimator__min_samples_split=2, clf__estimator__n_estimators=10, tfidf__use_idf=False, vect__max_df=1.0, vect__min_df=5 \n",
      "[CV]  clf__estimator__min_samples_split=2, clf__estimator__n_estimators=10, tfidf__use_idf=False, vect__max_df=1.0, vect__min_df=5, score=0.239, total= 5.3min\n",
      "[CV] clf__estimator__min_samples_split=2, clf__estimator__n_estimators=25, tfidf__use_idf=True, vect__max_df=0.5, vect__min_df=1 \n",
      "[CV]  clf__estimator__min_samples_split=2, clf__estimator__n_estimators=25, tfidf__use_idf=True, vect__max_df=0.5, vect__min_df=1, score=0.244, total= 5.9min\n",
      "[CV] clf__estimator__min_samples_split=2, clf__estimator__n_estimators=25, tfidf__use_idf=True, vect__max_df=0.5, vect__min_df=1 \n",
      "[CV]  clf__estimator__min_samples_split=2, clf__estimator__n_estimators=25, tfidf__use_idf=True, vect__max_df=0.5, vect__min_df=1, score=0.249, total= 5.8min\n",
      "[CV] clf__estimator__min_samples_split=2, clf__estimator__n_estimators=25, tfidf__use_idf=True, vect__max_df=0.5, vect__min_df=5 \n",
      "[CV]  clf__estimator__min_samples_split=2, clf__estimator__n_estimators=25, tfidf__use_idf=True, vect__max_df=0.5, vect__min_df=5, score=0.250, total= 5.5min\n",
      "[CV] clf__estimator__min_samples_split=2, clf__estimator__n_estimators=25, tfidf__use_idf=True, vect__max_df=0.5, vect__min_df=5 \n",
      "[CV]  clf__estimator__min_samples_split=2, clf__estimator__n_estimators=25, tfidf__use_idf=True, vect__max_df=0.5, vect__min_df=5, score=0.255, total= 5.5min\n",
      "[CV] clf__estimator__min_samples_split=2, clf__estimator__n_estimators=25, tfidf__use_idf=True, vect__max_df=1.0, vect__min_df=1 \n",
      "[CV]  clf__estimator__min_samples_split=2, clf__estimator__n_estimators=25, tfidf__use_idf=True, vect__max_df=1.0, vect__min_df=1, score=0.238, total= 5.7min\n",
      "[CV] clf__estimator__min_samples_split=2, clf__estimator__n_estimators=25, tfidf__use_idf=True, vect__max_df=1.0, vect__min_df=1 \n",
      "[CV]  clf__estimator__min_samples_split=2, clf__estimator__n_estimators=25, tfidf__use_idf=True, vect__max_df=1.0, vect__min_df=1, score=0.245, total= 5.7min\n",
      "[CV] clf__estimator__min_samples_split=2, clf__estimator__n_estimators=25, tfidf__use_idf=True, vect__max_df=1.0, vect__min_df=5 \n",
      "[CV]  clf__estimator__min_samples_split=2, clf__estimator__n_estimators=25, tfidf__use_idf=True, vect__max_df=1.0, vect__min_df=5, score=0.256, total= 5.4min\n",
      "[CV] clf__estimator__min_samples_split=2, clf__estimator__n_estimators=25, tfidf__use_idf=True, vect__max_df=1.0, vect__min_df=5 \n",
      "[CV]  clf__estimator__min_samples_split=2, clf__estimator__n_estimators=25, tfidf__use_idf=True, vect__max_df=1.0, vect__min_df=5, score=0.249, total= 5.6min\n",
      "[CV] clf__estimator__min_samples_split=2, clf__estimator__n_estimators=25, tfidf__use_idf=False, vect__max_df=0.5, vect__min_df=1 \n",
      "[CV]  clf__estimator__min_samples_split=2, clf__estimator__n_estimators=25, tfidf__use_idf=False, vect__max_df=0.5, vect__min_df=1, score=0.240, total= 5.9min\n",
      "[CV] clf__estimator__min_samples_split=2, clf__estimator__n_estimators=25, tfidf__use_idf=False, vect__max_df=0.5, vect__min_df=1 \n",
      "[CV]  clf__estimator__min_samples_split=2, clf__estimator__n_estimators=25, tfidf__use_idf=False, vect__max_df=0.5, vect__min_df=1, score=0.243, total= 5.8min\n",
      "[CV] clf__estimator__min_samples_split=2, clf__estimator__n_estimators=25, tfidf__use_idf=False, vect__max_df=0.5, vect__min_df=5 \n",
      "[CV]  clf__estimator__min_samples_split=2, clf__estimator__n_estimators=25, tfidf__use_idf=False, vect__max_df=0.5, vect__min_df=5, score=0.248, total= 5.7min\n",
      "[CV] clf__estimator__min_samples_split=2, clf__estimator__n_estimators=25, tfidf__use_idf=False, vect__max_df=0.5, vect__min_df=5 \n",
      "[CV]  clf__estimator__min_samples_split=2, clf__estimator__n_estimators=25, tfidf__use_idf=False, vect__max_df=0.5, vect__min_df=5, score=0.253, total= 5.8min\n",
      "[CV] clf__estimator__min_samples_split=2, clf__estimator__n_estimators=25, tfidf__use_idf=False, vect__max_df=1.0, vect__min_df=1 \n",
      "[CV]  clf__estimator__min_samples_split=2, clf__estimator__n_estimators=25, tfidf__use_idf=False, vect__max_df=1.0, vect__min_df=1, score=0.244, total= 5.9min\n",
      "[CV] clf__estimator__min_samples_split=2, clf__estimator__n_estimators=25, tfidf__use_idf=False, vect__max_df=1.0, vect__min_df=1 \n",
      "[CV]  clf__estimator__min_samples_split=2, clf__estimator__n_estimators=25, tfidf__use_idf=False, vect__max_df=1.0, vect__min_df=1, score=0.242, total= 5.8min\n",
      "[CV] clf__estimator__min_samples_split=2, clf__estimator__n_estimators=25, tfidf__use_idf=False, vect__max_df=1.0, vect__min_df=5 \n",
      "[CV]  clf__estimator__min_samples_split=2, clf__estimator__n_estimators=25, tfidf__use_idf=False, vect__max_df=1.0, vect__min_df=5, score=0.250, total= 5.5min\n",
      "[CV] clf__estimator__min_samples_split=2, clf__estimator__n_estimators=25, tfidf__use_idf=False, vect__max_df=1.0, vect__min_df=5 \n"
     ]
    },
    {
     "name": "stdout",
     "output_type": "stream",
     "text": [
      "[CV]  clf__estimator__min_samples_split=2, clf__estimator__n_estimators=25, tfidf__use_idf=False, vect__max_df=1.0, vect__min_df=5, score=0.249, total= 5.5min\n",
      "[CV] clf__estimator__min_samples_split=4, clf__estimator__n_estimators=10, tfidf__use_idf=True, vect__max_df=0.5, vect__min_df=1 \n",
      "[CV]  clf__estimator__min_samples_split=4, clf__estimator__n_estimators=10, tfidf__use_idf=True, vect__max_df=0.5, vect__min_df=1, score=0.238, total= 5.3min\n",
      "[CV] clf__estimator__min_samples_split=4, clf__estimator__n_estimators=10, tfidf__use_idf=True, vect__max_df=0.5, vect__min_df=1 \n",
      "[CV]  clf__estimator__min_samples_split=4, clf__estimator__n_estimators=10, tfidf__use_idf=True, vect__max_df=0.5, vect__min_df=1, score=0.237, total= 5.3min\n",
      "[CV] clf__estimator__min_samples_split=4, clf__estimator__n_estimators=10, tfidf__use_idf=True, vect__max_df=0.5, vect__min_df=5 \n",
      "[CV]  clf__estimator__min_samples_split=4, clf__estimator__n_estimators=10, tfidf__use_idf=True, vect__max_df=0.5, vect__min_df=5, score=0.236, total= 5.1min\n",
      "[CV] clf__estimator__min_samples_split=4, clf__estimator__n_estimators=10, tfidf__use_idf=True, vect__max_df=0.5, vect__min_df=5 \n",
      "[CV]  clf__estimator__min_samples_split=4, clf__estimator__n_estimators=10, tfidf__use_idf=True, vect__max_df=0.5, vect__min_df=5, score=0.237, total= 5.1min\n",
      "[CV] clf__estimator__min_samples_split=4, clf__estimator__n_estimators=10, tfidf__use_idf=True, vect__max_df=1.0, vect__min_df=1 \n",
      "[CV]  clf__estimator__min_samples_split=4, clf__estimator__n_estimators=10, tfidf__use_idf=True, vect__max_df=1.0, vect__min_df=1, score=0.237, total= 5.4min\n",
      "[CV] clf__estimator__min_samples_split=4, clf__estimator__n_estimators=10, tfidf__use_idf=True, vect__max_df=1.0, vect__min_df=1 \n",
      "[CV]  clf__estimator__min_samples_split=4, clf__estimator__n_estimators=10, tfidf__use_idf=True, vect__max_df=1.0, vect__min_df=1, score=0.232, total= 5.3min\n",
      "[CV] clf__estimator__min_samples_split=4, clf__estimator__n_estimators=10, tfidf__use_idf=True, vect__max_df=1.0, vect__min_df=5 \n",
      "[CV]  clf__estimator__min_samples_split=4, clf__estimator__n_estimators=10, tfidf__use_idf=True, vect__max_df=1.0, vect__min_df=5, score=0.237, total= 5.1min\n",
      "[CV] clf__estimator__min_samples_split=4, clf__estimator__n_estimators=10, tfidf__use_idf=True, vect__max_df=1.0, vect__min_df=5 \n",
      "[CV]  clf__estimator__min_samples_split=4, clf__estimator__n_estimators=10, tfidf__use_idf=True, vect__max_df=1.0, vect__min_df=5, score=0.241, total= 5.2min\n",
      "[CV] clf__estimator__min_samples_split=4, clf__estimator__n_estimators=10, tfidf__use_idf=False, vect__max_df=0.5, vect__min_df=1 \n",
      "[CV]  clf__estimator__min_samples_split=4, clf__estimator__n_estimators=10, tfidf__use_idf=False, vect__max_df=0.5, vect__min_df=1, score=0.223, total= 5.1min\n",
      "[CV] clf__estimator__min_samples_split=4, clf__estimator__n_estimators=10, tfidf__use_idf=False, vect__max_df=0.5, vect__min_df=1 \n",
      "[CV]  clf__estimator__min_samples_split=4, clf__estimator__n_estimators=10, tfidf__use_idf=False, vect__max_df=0.5, vect__min_df=1, score=0.226, total= 5.2min\n",
      "[CV] clf__estimator__min_samples_split=4, clf__estimator__n_estimators=10, tfidf__use_idf=False, vect__max_df=0.5, vect__min_df=5 \n",
      "[CV]  clf__estimator__min_samples_split=4, clf__estimator__n_estimators=10, tfidf__use_idf=False, vect__max_df=0.5, vect__min_df=5, score=0.240, total= 5.1min\n",
      "[CV] clf__estimator__min_samples_split=4, clf__estimator__n_estimators=10, tfidf__use_idf=False, vect__max_df=0.5, vect__min_df=5 \n",
      "[CV]  clf__estimator__min_samples_split=4, clf__estimator__n_estimators=10, tfidf__use_idf=False, vect__max_df=0.5, vect__min_df=5, score=0.240, total= 5.1min\n",
      "[CV] clf__estimator__min_samples_split=4, clf__estimator__n_estimators=10, tfidf__use_idf=False, vect__max_df=1.0, vect__min_df=1 \n",
      "[CV]  clf__estimator__min_samples_split=4, clf__estimator__n_estimators=10, tfidf__use_idf=False, vect__max_df=1.0, vect__min_df=1, score=0.231, total= 5.2min\n",
      "[CV] clf__estimator__min_samples_split=4, clf__estimator__n_estimators=10, tfidf__use_idf=False, vect__max_df=1.0, vect__min_df=1 \n",
      "[CV]  clf__estimator__min_samples_split=4, clf__estimator__n_estimators=10, tfidf__use_idf=False, vect__max_df=1.0, vect__min_df=1, score=0.220, total= 5.2min\n",
      "[CV] clf__estimator__min_samples_split=4, clf__estimator__n_estimators=10, tfidf__use_idf=False, vect__max_df=1.0, vect__min_df=5 \n",
      "[CV]  clf__estimator__min_samples_split=4, clf__estimator__n_estimators=10, tfidf__use_idf=False, vect__max_df=1.0, vect__min_df=5, score=0.234, total= 5.4min\n",
      "[CV] clf__estimator__min_samples_split=4, clf__estimator__n_estimators=10, tfidf__use_idf=False, vect__max_df=1.0, vect__min_df=5 \n",
      "[CV]  clf__estimator__min_samples_split=4, clf__estimator__n_estimators=10, tfidf__use_idf=False, vect__max_df=1.0, vect__min_df=5, score=0.235, total= 5.5min\n",
      "[CV] clf__estimator__min_samples_split=4, clf__estimator__n_estimators=25, tfidf__use_idf=True, vect__max_df=0.5, vect__min_df=1 \n",
      "[CV]  clf__estimator__min_samples_split=4, clf__estimator__n_estimators=25, tfidf__use_idf=True, vect__max_df=0.5, vect__min_df=1, score=0.245, total= 5.8min\n",
      "[CV] clf__estimator__min_samples_split=4, clf__estimator__n_estimators=25, tfidf__use_idf=True, vect__max_df=0.5, vect__min_df=1 \n",
      "[CV]  clf__estimator__min_samples_split=4, clf__estimator__n_estimators=25, tfidf__use_idf=True, vect__max_df=0.5, vect__min_df=1, score=0.245, total= 5.8min\n",
      "[CV] clf__estimator__min_samples_split=4, clf__estimator__n_estimators=25, tfidf__use_idf=True, vect__max_df=0.5, vect__min_df=5 \n",
      "[CV]  clf__estimator__min_samples_split=4, clf__estimator__n_estimators=25, tfidf__use_idf=True, vect__max_df=0.5, vect__min_df=5, score=0.254, total= 5.6min\n",
      "[CV] clf__estimator__min_samples_split=4, clf__estimator__n_estimators=25, tfidf__use_idf=True, vect__max_df=0.5, vect__min_df=5 \n",
      "[CV]  clf__estimator__min_samples_split=4, clf__estimator__n_estimators=25, tfidf__use_idf=True, vect__max_df=0.5, vect__min_df=5, score=0.248, total= 5.6min\n",
      "[CV] clf__estimator__min_samples_split=4, clf__estimator__n_estimators=25, tfidf__use_idf=True, vect__max_df=1.0, vect__min_df=1 \n",
      "[CV]  clf__estimator__min_samples_split=4, clf__estimator__n_estimators=25, tfidf__use_idf=True, vect__max_df=1.0, vect__min_df=1, score=0.245, total= 5.7min\n",
      "[CV] clf__estimator__min_samples_split=4, clf__estimator__n_estimators=25, tfidf__use_idf=True, vect__max_df=1.0, vect__min_df=1 \n",
      "[CV]  clf__estimator__min_samples_split=4, clf__estimator__n_estimators=25, tfidf__use_idf=True, vect__max_df=1.0, vect__min_df=1, score=0.243, total= 5.6min\n",
      "[CV] clf__estimator__min_samples_split=4, clf__estimator__n_estimators=25, tfidf__use_idf=True, vect__max_df=1.0, vect__min_df=5 \n",
      "[CV]  clf__estimator__min_samples_split=4, clf__estimator__n_estimators=25, tfidf__use_idf=True, vect__max_df=1.0, vect__min_df=5, score=0.257, total= 5.4min\n",
      "[CV] clf__estimator__min_samples_split=4, clf__estimator__n_estimators=25, tfidf__use_idf=True, vect__max_df=1.0, vect__min_df=5 \n",
      "[CV]  clf__estimator__min_samples_split=4, clf__estimator__n_estimators=25, tfidf__use_idf=True, vect__max_df=1.0, vect__min_df=5, score=0.255, total= 5.5min\n",
      "[CV] clf__estimator__min_samples_split=4, clf__estimator__n_estimators=25, tfidf__use_idf=False, vect__max_df=0.5, vect__min_df=1 \n",
      "[CV]  clf__estimator__min_samples_split=4, clf__estimator__n_estimators=25, tfidf__use_idf=False, vect__max_df=0.5, vect__min_df=1, score=0.242, total= 5.6min\n",
      "[CV] clf__estimator__min_samples_split=4, clf__estimator__n_estimators=25, tfidf__use_idf=False, vect__max_df=0.5, vect__min_df=1 \n",
      "[CV]  clf__estimator__min_samples_split=4, clf__estimator__n_estimators=25, tfidf__use_idf=False, vect__max_df=0.5, vect__min_df=1, score=0.242, total= 5.6min\n",
      "[CV] clf__estimator__min_samples_split=4, clf__estimator__n_estimators=25, tfidf__use_idf=False, vect__max_df=0.5, vect__min_df=5 \n",
      "[CV]  clf__estimator__min_samples_split=4, clf__estimator__n_estimators=25, tfidf__use_idf=False, vect__max_df=0.5, vect__min_df=5, score=0.251, total= 5.4min\n",
      "[CV] clf__estimator__min_samples_split=4, clf__estimator__n_estimators=25, tfidf__use_idf=False, vect__max_df=0.5, vect__min_df=5 \n",
      "[CV]  clf__estimator__min_samples_split=4, clf__estimator__n_estimators=25, tfidf__use_idf=False, vect__max_df=0.5, vect__min_df=5, score=0.255, total= 5.4min\n",
      "[CV] clf__estimator__min_samples_split=4, clf__estimator__n_estimators=25, tfidf__use_idf=False, vect__max_df=1.0, vect__min_df=1 \n"
     ]
    },
    {
     "name": "stdout",
     "output_type": "stream",
     "text": [
      "[CV]  clf__estimator__min_samples_split=4, clf__estimator__n_estimators=25, tfidf__use_idf=False, vect__max_df=1.0, vect__min_df=1, score=0.245, total= 5.6min\n",
      "[CV] clf__estimator__min_samples_split=4, clf__estimator__n_estimators=25, tfidf__use_idf=False, vect__max_df=1.0, vect__min_df=1 \n",
      "[CV]  clf__estimator__min_samples_split=4, clf__estimator__n_estimators=25, tfidf__use_idf=False, vect__max_df=1.0, vect__min_df=1, score=0.242, total= 5.6min\n",
      "[CV] clf__estimator__min_samples_split=4, clf__estimator__n_estimators=25, tfidf__use_idf=False, vect__max_df=1.0, vect__min_df=5 \n",
      "[CV]  clf__estimator__min_samples_split=4, clf__estimator__n_estimators=25, tfidf__use_idf=False, vect__max_df=1.0, vect__min_df=5, score=0.253, total= 5.5min\n",
      "[CV] clf__estimator__min_samples_split=4, clf__estimator__n_estimators=25, tfidf__use_idf=False, vect__max_df=1.0, vect__min_df=5 \n",
      "[CV]  clf__estimator__min_samples_split=4, clf__estimator__n_estimators=25, tfidf__use_idf=False, vect__max_df=1.0, vect__min_df=5, score=0.258, total= 5.4min\n"
     ]
    },
    {
     "name": "stderr",
     "output_type": "stream",
     "text": [
      "[Parallel(n_jobs=1)]: Done  64 out of  64 | elapsed: 349.7min finished\n"
     ]
    },
    {
     "ename": "ValueError",
     "evalue": "multilabel-indicator is not supported",
     "output_type": "error",
     "traceback": [
      "\u001b[1;31m---------------------------------------------------------------------------\u001b[0m",
      "\u001b[1;31mValueError\u001b[0m                                Traceback (most recent call last)",
      "\u001b[1;32m<ipython-input-12-551e3e7fc3a5>\u001b[0m in \u001b[0;36m<module>\u001b[1;34m\u001b[0m\n\u001b[0;32m     18\u001b[0m     \u001b[0mdisplay_results\u001b[0m\u001b[1;33m(\u001b[0m\u001b[0mcv\u001b[0m\u001b[1;33m,\u001b[0m \u001b[0my_test\u001b[0m\u001b[1;33m,\u001b[0m \u001b[0my_pred\u001b[0m\u001b[1;33m)\u001b[0m\u001b[1;33m\u001b[0m\u001b[1;33m\u001b[0m\u001b[0m\n\u001b[0;32m     19\u001b[0m \u001b[1;33m\u001b[0m\u001b[0m\n\u001b[1;32m---> 20\u001b[1;33m \u001b[0mmain\u001b[0m\u001b[1;33m(\u001b[0m\u001b[1;33m)\u001b[0m\u001b[1;33m\u001b[0m\u001b[1;33m\u001b[0m\u001b[0m\n\u001b[0m",
      "\u001b[1;32m<ipython-input-12-551e3e7fc3a5>\u001b[0m in \u001b[0;36mmain\u001b[1;34m()\u001b[0m\n\u001b[0;32m     16\u001b[0m     \u001b[0my_pred\u001b[0m \u001b[1;33m=\u001b[0m \u001b[0mcv\u001b[0m\u001b[1;33m.\u001b[0m\u001b[0mpredict\u001b[0m\u001b[1;33m(\u001b[0m\u001b[0mX_test\u001b[0m\u001b[1;33m)\u001b[0m\u001b[1;33m\u001b[0m\u001b[1;33m\u001b[0m\u001b[0m\n\u001b[0;32m     17\u001b[0m \u001b[1;33m\u001b[0m\u001b[0m\n\u001b[1;32m---> 18\u001b[1;33m     \u001b[0mdisplay_results\u001b[0m\u001b[1;33m(\u001b[0m\u001b[0mcv\u001b[0m\u001b[1;33m,\u001b[0m \u001b[0my_test\u001b[0m\u001b[1;33m,\u001b[0m \u001b[0my_pred\u001b[0m\u001b[1;33m)\u001b[0m\u001b[1;33m\u001b[0m\u001b[1;33m\u001b[0m\u001b[0m\n\u001b[0m\u001b[0;32m     19\u001b[0m \u001b[1;33m\u001b[0m\u001b[0m\n\u001b[0;32m     20\u001b[0m \u001b[0mmain\u001b[0m\u001b[1;33m(\u001b[0m\u001b[1;33m)\u001b[0m\u001b[1;33m\u001b[0m\u001b[1;33m\u001b[0m\u001b[0m\n",
      "\u001b[1;32m<ipython-input-12-551e3e7fc3a5>\u001b[0m in \u001b[0;36mdisplay_results\u001b[1;34m(cv, y_test, y_pred)\u001b[0m\n\u001b[0;32m      1\u001b[0m \u001b[1;32mdef\u001b[0m \u001b[0mdisplay_results\u001b[0m\u001b[1;33m(\u001b[0m\u001b[0mcv\u001b[0m\u001b[1;33m,\u001b[0m \u001b[0my_test\u001b[0m\u001b[1;33m,\u001b[0m \u001b[0my_pred\u001b[0m\u001b[1;33m)\u001b[0m\u001b[1;33m:\u001b[0m\u001b[1;33m\u001b[0m\u001b[1;33m\u001b[0m\u001b[0m\n\u001b[0;32m      2\u001b[0m     \u001b[0mlabels\u001b[0m \u001b[1;33m=\u001b[0m \u001b[0mnp\u001b[0m\u001b[1;33m.\u001b[0m\u001b[0munique\u001b[0m\u001b[1;33m(\u001b[0m\u001b[0my_pred\u001b[0m\u001b[1;33m)\u001b[0m\u001b[1;33m\u001b[0m\u001b[1;33m\u001b[0m\u001b[0m\n\u001b[1;32m----> 3\u001b[1;33m     \u001b[0mconfusion_mat\u001b[0m \u001b[1;33m=\u001b[0m \u001b[0mconfusion_matrix\u001b[0m\u001b[1;33m(\u001b[0m\u001b[0my_test\u001b[0m\u001b[1;33m,\u001b[0m \u001b[0my_pred\u001b[0m\u001b[1;33m,\u001b[0m \u001b[0mlabels\u001b[0m\u001b[1;33m=\u001b[0m\u001b[0mlabels\u001b[0m\u001b[1;33m)\u001b[0m\u001b[1;33m\u001b[0m\u001b[1;33m\u001b[0m\u001b[0m\n\u001b[0m\u001b[0;32m      4\u001b[0m     \u001b[0maccuracy\u001b[0m \u001b[1;33m=\u001b[0m \u001b[1;33m(\u001b[0m\u001b[0my_pred\u001b[0m \u001b[1;33m==\u001b[0m \u001b[0my_test\u001b[0m\u001b[1;33m)\u001b[0m\u001b[1;33m.\u001b[0m\u001b[0mmean\u001b[0m\u001b[1;33m(\u001b[0m\u001b[1;33m)\u001b[0m\u001b[1;33m\u001b[0m\u001b[1;33m\u001b[0m\u001b[0m\n\u001b[0;32m      5\u001b[0m \u001b[1;33m\u001b[0m\u001b[0m\n",
      "\u001b[1;32m~\\anaconda3\\lib\\site-packages\\sklearn\\utils\\validation.py\u001b[0m in \u001b[0;36minner_f\u001b[1;34m(*args, **kwargs)\u001b[0m\n\u001b[0;32m     71\u001b[0m                           FutureWarning)\n\u001b[0;32m     72\u001b[0m         \u001b[0mkwargs\u001b[0m\u001b[1;33m.\u001b[0m\u001b[0mupdate\u001b[0m\u001b[1;33m(\u001b[0m\u001b[1;33m{\u001b[0m\u001b[0mk\u001b[0m\u001b[1;33m:\u001b[0m \u001b[0marg\u001b[0m \u001b[1;32mfor\u001b[0m \u001b[0mk\u001b[0m\u001b[1;33m,\u001b[0m \u001b[0marg\u001b[0m \u001b[1;32min\u001b[0m \u001b[0mzip\u001b[0m\u001b[1;33m(\u001b[0m\u001b[0msig\u001b[0m\u001b[1;33m.\u001b[0m\u001b[0mparameters\u001b[0m\u001b[1;33m,\u001b[0m \u001b[0margs\u001b[0m\u001b[1;33m)\u001b[0m\u001b[1;33m}\u001b[0m\u001b[1;33m)\u001b[0m\u001b[1;33m\u001b[0m\u001b[1;33m\u001b[0m\u001b[0m\n\u001b[1;32m---> 73\u001b[1;33m         \u001b[1;32mreturn\u001b[0m \u001b[0mf\u001b[0m\u001b[1;33m(\u001b[0m\u001b[1;33m**\u001b[0m\u001b[0mkwargs\u001b[0m\u001b[1;33m)\u001b[0m\u001b[1;33m\u001b[0m\u001b[1;33m\u001b[0m\u001b[0m\n\u001b[0m\u001b[0;32m     74\u001b[0m     \u001b[1;32mreturn\u001b[0m \u001b[0minner_f\u001b[0m\u001b[1;33m\u001b[0m\u001b[1;33m\u001b[0m\u001b[0m\n\u001b[0;32m     75\u001b[0m \u001b[1;33m\u001b[0m\u001b[0m\n",
      "\u001b[1;32m~\\anaconda3\\lib\\site-packages\\sklearn\\metrics\\_classification.py\u001b[0m in \u001b[0;36mconfusion_matrix\u001b[1;34m(y_true, y_pred, labels, sample_weight, normalize)\u001b[0m\n\u001b[0;32m    276\u001b[0m     \u001b[0my_type\u001b[0m\u001b[1;33m,\u001b[0m \u001b[0my_true\u001b[0m\u001b[1;33m,\u001b[0m \u001b[0my_pred\u001b[0m \u001b[1;33m=\u001b[0m \u001b[0m_check_targets\u001b[0m\u001b[1;33m(\u001b[0m\u001b[0my_true\u001b[0m\u001b[1;33m,\u001b[0m \u001b[0my_pred\u001b[0m\u001b[1;33m)\u001b[0m\u001b[1;33m\u001b[0m\u001b[1;33m\u001b[0m\u001b[0m\n\u001b[0;32m    277\u001b[0m     \u001b[1;32mif\u001b[0m \u001b[0my_type\u001b[0m \u001b[1;32mnot\u001b[0m \u001b[1;32min\u001b[0m \u001b[1;33m(\u001b[0m\u001b[1;34m\"binary\"\u001b[0m\u001b[1;33m,\u001b[0m \u001b[1;34m\"multiclass\"\u001b[0m\u001b[1;33m)\u001b[0m\u001b[1;33m:\u001b[0m\u001b[1;33m\u001b[0m\u001b[1;33m\u001b[0m\u001b[0m\n\u001b[1;32m--> 278\u001b[1;33m         \u001b[1;32mraise\u001b[0m \u001b[0mValueError\u001b[0m\u001b[1;33m(\u001b[0m\u001b[1;34m\"%s is not supported\"\u001b[0m \u001b[1;33m%\u001b[0m \u001b[0my_type\u001b[0m\u001b[1;33m)\u001b[0m\u001b[1;33m\u001b[0m\u001b[1;33m\u001b[0m\u001b[0m\n\u001b[0m\u001b[0;32m    279\u001b[0m \u001b[1;33m\u001b[0m\u001b[0m\n\u001b[0;32m    280\u001b[0m     \u001b[1;32mif\u001b[0m \u001b[0mlabels\u001b[0m \u001b[1;32mis\u001b[0m \u001b[1;32mNone\u001b[0m\u001b[1;33m:\u001b[0m\u001b[1;33m\u001b[0m\u001b[1;33m\u001b[0m\u001b[0m\n",
      "\u001b[1;31mValueError\u001b[0m: multilabel-indicator is not supported"
     ]
    }
   ],
   "source": [
    "def display_results(cv, y_test, y_pred):\n",
    "    labels = np.unique(y_pred)\n",
    "    confusion_mat = confusion_matrix(y_test.values.argmax(axis=1),predictions.argmax(axis=1),labels=labels)\n",
    "    accuracy = (y_pred == y_test).mean()\n",
    "\n",
    "    print(\"Labels:\", labels)\n",
    "    print(\"Confusion Matrix:\\n\", confusion_mat)\n",
    "    print(\"Accuracy:\", accuracy)\n",
    "    print(\"\\nBest Parameters:\", cv.best_params_)\n",
    "\n",
    "\n",
    "def main():\n",
    "    X_train, X_test, y_train, y_test = train_test_split(X, y)\n",
    "\n",
    "    cv.fit(X_train, y_train)\n",
    "    y_pred = cv.predict(X_test)\n",
    "\n",
    "    display_results(cv, y_test, y_pred)\n",
    "\n",
    "main()"
   ]
  },
  {
   "cell_type": "markdown",
   "metadata": {},
   "source": [
    "### 7. Test your model\n",
    "Show the accuracy, precision, and recall of the tuned model.  \n",
    "\n",
    "Since this project focuses on code quality, process, and  pipelines, there is no minimum performance metric needed to pass. However, make sure to fine tune your models for accuracy, precision and recall to make your project stand out - especially for your portfolio!"
   ]
  },
  {
   "cell_type": "code",
   "execution_count": null,
   "metadata": {},
   "outputs": [],
   "source": [
    "# Improved parameters \n",
    "parameters = {\n",
    "    'vect__max_df': [0.5, 1.0],\n",
    "    'vect__min_df': [1, 5],\n",
    "    'tfidf__use_idf': [True, False],\n",
    "    'clf__estimator__n_estimators': [10, 25],\n",
    "    'clf__estimator__min_samples_split': [2, 4]\n",
    "    }\n",
    "# new model with improved parameters\n",
    "cv = GridSearchCV(estimator=pipeline, param_grid=parameters, cv=3)"
   ]
  },
  {
   "cell_type": "markdown",
   "metadata": {},
   "source": [
    "### 8. Try improving your model further. Here are a few ideas:\n",
    "* try other machine learning algorithms\n",
    "* add other features besides the TF-IDF"
   ]
  },
  {
   "cell_type": "code",
   "execution_count": null,
   "metadata": {},
   "outputs": [],
   "source": []
  },
  {
   "cell_type": "markdown",
   "metadata": {},
   "source": [
    "### 9. Export your model as a pickle file"
   ]
  },
  {
   "cell_type": "code",
   "execution_count": null,
   "metadata": {},
   "outputs": [],
   "source": []
  },
  {
   "cell_type": "markdown",
   "metadata": {},
   "source": [
    "### 10. Use this notebook to complete `train.py`\n",
    "Use the template file attached in the Resources folder to write a script that runs the steps above to create a database and export a model based on a new dataset specified by the user."
   ]
  },
  {
   "cell_type": "code",
   "execution_count": null,
   "metadata": {},
   "outputs": [],
   "source": []
  }
 ],
 "metadata": {
  "kernelspec": {
   "display_name": "Python 3",
   "language": "python",
   "name": "python3"
  },
  "language_info": {
   "codemirror_mode": {
    "name": "ipython",
    "version": 3
   },
   "file_extension": ".py",
   "mimetype": "text/x-python",
   "name": "python",
   "nbconvert_exporter": "python",
   "pygments_lexer": "ipython3",
   "version": "3.8.3"
  }
 },
 "nbformat": 4,
 "nbformat_minor": 2
}
